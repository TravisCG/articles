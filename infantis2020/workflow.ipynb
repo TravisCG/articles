{
 "cells": [
  {
   "cell_type": "markdown",
   "metadata": {},
   "source": [
    "# Salmonella sequence preparation\n",
    "In this notebook we collect all the steps needed to create the results for our new article: *Comparative genome analysis of Hungarian and global strains of Salmonella Infantis*\n",
    "## Download\n",
    "We work with two kind of genomes. The first one is complete, we need to download them from NCBI's nuccore. The second ones are raw sequence files from SRA.\n",
    "### SRA\n",
    "We download raw sequences from SRA and apply Spades (version 3.14) to assemble it. We created every subdirectories using the Run ids (you can see it in the Supplementary Table 1.). The following script download all the necessary files and perform the assembly."
   ]
  },
  {
   "cell_type": "code",
   "execution_count": null,
   "metadata": {},
   "outputs": [],
   "source": [
    "%%bash\n",
    "cd ../denovo\n",
    "mkdir DRR022727 DRR022732 ERR1014112 ERR1014114 ERR1014116 SRR2939562 SRR3137263 SRR4025935 SRR8100706 SRR8100830 SRR9200029\n",
    "mkdir DRR022719 DRR022730 DRR022753  ERR1014113 ERR1014115 SRR2587646 SRR2939570 SRR3453168 SRR4025936 SRR8100824 SRR8100840\n",
    "mkdir DRS016504 DRS016490 DRS016493  DRS016501  DRS018216  ERR1014109 ERR1014118 ERR1014117 ERR1014119 ERR1014111 SRR4098711\n",
    "mkdir SRR3457701 SRR3457702 SRR4098712 SRR3457703\n",
    "for i in ERR* SRR* DRR*\n",
    "do\n",
    "  cd $i\n",
    "  fastq-dump --split-3 $i # download raw sequences from SRA\n",
    "  spades.py --isolate -t 4 -1 *_1.fastq -2 *_2.fastq -o . # apply de-novo assembly\n",
    "  cd ..\n",
    "done"
   ]
  },
  {
   "cell_type": "markdown",
   "metadata": {},
   "source": [
    "Every directory contains a scaffolds.fasta file. We manually copy to folder 'sequences', and rename it.\n",
    "### Nuccore\n",
    "From nuccore, we manually download all the necessary files using the web browser. All the sequences was renamed and put into the 'sequences' folder in FASTA format. If the genome contains multiple contigs, all the contigs can be found in the same file."
   ]
  },
  {
   "cell_type": "markdown",
   "metadata": {},
   "source": [
    "## Annotate\n",
    "To annotate all the sequences in the similar way, we use Prokka."
   ]
  },
  {
   "cell_type": "code",
   "execution_count": null,
   "metadata": {},
   "outputs": [],
   "source": [
    "%%bash\n",
    "cd ../sequences\n",
    "for i in *.fasta\n",
    "do\n",
    "   /usr/local/molbio/src/prokka/bin/prokka --prefix \"${i%.fasta}\" --outdir ../annotations/\"${i%.fasta}\" --genus Salmonella --species enterica --cpus 10 \"$i\" >>../log 2>>../err\n",
    "done"
   ]
  },
  {
   "cell_type": "markdown",
   "metadata": {},
   "source": [
    "## Generating Table 2\n",
    "Table 2 contains information about filament genes. The following code creates input sequence for Blast.\n",
    "\n",
    "First, we rename all the contigs. Now every contig name contains the strain name too."
   ]
  },
  {
   "cell_type": "code",
   "execution_count": 5,
   "metadata": {},
   "outputs": [],
   "source": [
    "import glob\n",
    "\n",
    "files = glob.glob(\"../sequences/*.fasta\")\n",
    "out = open(\"../blastdb/seq.fasta\", \"w\")\n",
    "for f in files:\n",
    "    inp = open(f)\n",
    "    seqname = f.replace(\"../sequences/\", \"\").replace(\".fasta\", \"\").replace(\" \", \"_\").replace(\"\\\\\",\"\")\n",
    "    contig = 1\n",
    "    for i in inp:\n",
    "        if i.startswith(\">\"):\n",
    "            out.write(\">\" + seqname + \"_\" + str(contig) + \"\\n\")\n",
    "            contig += 1\n",
    "        else:\n",
    "            out.write(i)\n",
    "    inp.close()\n",
    "out.close()"
   ]
  },
  {
   "cell_type": "markdown",
   "metadata": {},
   "source": [
    "Create blast database."
   ]
  },
  {
   "cell_type": "code",
   "execution_count": 6,
   "metadata": {},
   "outputs": [
    {
     "name": "stdout",
     "output_type": "stream",
     "text": [
      "\n",
      "\n",
      "Building a new DB, current time: 01/31/2020 09:14:29\n",
      "New DB name:   /data/projects/salmonella/blastdb/salmonella\n",
      "New DB title:  seq.fasta\n",
      "Sequence type: Nucleotide\n",
      "Deleted existing Nucleotide BLAST database named /data/projects/salmonella/blastdb/salmonella\n",
      "Keep MBits: T\n",
      "Maximum file size: 1000000000B\n",
      "Adding sequences from FASTA; added 19965 sequences in 4.41693 seconds.\n"
     ]
    }
   ],
   "source": [
    "%%bash\n",
    "cd ../blastdb\n",
    "makeblastdb -in seq.fasta -out salmonella -dbtype nucl"
   ]
  },
  {
   "cell_type": "markdown",
   "metadata": {},
   "source": [
    "Run blast."
   ]
  },
  {
   "cell_type": "code",
   "execution_count": 7,
   "metadata": {},
   "outputs": [],
   "source": [
    "%%bash\n",
    "cd ../blastdb\n",
    "tblastn -query query.fasta -db salmonella -out out.tsv -outfmt 7"
   ]
  },
  {
   "cell_type": "markdown",
   "metadata": {},
   "source": [
    "Filter results. We accept only full length hits with similarity greater than 70%."
   ]
  },
  {
   "cell_type": "code",
   "execution_count": 5,
   "metadata": {},
   "outputs": [],
   "source": [
    "seqlengths = {\"fliA\":239, \"fliB\":401, \"fliC\":495, \"fliD\":467, \"fliS\":135, \"fljA\":179, \"fljB\":506, \"hin\":190} # sequence length by infoseq\n",
    "header = {\"fliA\":0, \"fliB\":1, \"fliC\":2, \"fliD\":3, \"fliS\":4, \"fljA\":5, \"fljB\":6, \"hin\":7}\n",
    "outtable = dict()\n",
    "coverage = dict()\n",
    "blastout = open(\"../blastdb/out.tsv\")\n",
    "for i in blastout:\n",
    "    if i.startswith(\"#\"):\n",
    "        continue\n",
    "    fields = i.rstrip().split()\n",
    "    qseq = fields[0]\n",
    "    hit  = \"_\".join(fields[1].split(\"_\")[:-1]) #the last field is just the contig number, we do not need it\n",
    "    similarity = float(fields[2])\n",
    "    start = int(fields[6]) - 1\n",
    "    end   = int(fields[7])\n",
    "    if similarity > 70.0: # we set similarity here\n",
    "        if hit not in outtable:\n",
    "            outtable[hit] = ['-'] * len(header)\n",
    "            coverage[hit] = dict()\n",
    "        if qseq not in coverage[hit]:\n",
    "            coverage[hit][qseq] = [0] * seqlengths[qseq]\n",
    "        for pos in range(start, end):\n",
    "            coverage[hit][qseq][pos] = 1\n",
    "blastout.close()\n",
    "\n",
    "out = open(\"../tables/flagellin70.csv\", \"w\")\n",
    "out.write(\"strain\\tfliA\\tfliB\\tfliC\\tfliD\\tfliS\\tfljA\\tfljB\\thin\\n\")\n",
    "for row in outtable:\n",
    "    for col in header:\n",
    "        if row not in coverage or col not in coverage[row]:\n",
    "            continue\n",
    "        s = sum(coverage[row][col])\n",
    "        if s >= seqlengths[col]:\n",
    "            outtable[row][header[col]] = '+'\n",
    "    out.write(row + \"\\t\" + \"\\t\".join(outtable[row]) + \"\\n\")\n",
    "out.close()"
   ]
  },
  {
   "cell_type": "markdown",
   "metadata": {},
   "source": [
    "## Tree generation\n",
    "To generate trees, we use progressiveMauve in a HPC cluster.\n",
    "### Whole genome of all Salmonella strains"
   ]
  },
  {
   "cell_type": "code",
   "execution_count": null,
   "metadata": {},
   "outputs": [],
   "source": [
    "%%bash\n",
    "#!/bin/bash\n",
    "\n",
    "# All Salmonella strains whole genome multiple alignment\n",
    "\n",
    "#SBATCH -A rbgma\n",
    "#SBATCH --job-name=infwgs\n",
    "#SBATCH --time=168:00:00\n",
    "#SBATCH -n 8\n",
    "\n",
    "cd /big/scratch/pez5mnr/salmonella/\n",
    "./progressiveMauve --output-guide-tree=salmonella.wgs.guide_tree --output=salmonella.wgs *.fasta >log.txt"
   ]
  },
  {
   "cell_type": "markdown",
   "metadata": {},
   "source": [
    "### Core genes of Infantis genes\n",
    "First, we need to select only Infantis. We created a metadata table 'samples.tsv' and stored it in folder called 'tables'. In that table the second column is 1, if the sample is Infantis and 0 otherwise."
   ]
  },
  {
   "cell_type": "code",
   "execution_count": 3,
   "metadata": {},
   "outputs": [],
   "source": [
    "%%bash\n",
    "cd ../tables\n",
    "IFS=$(echo -en \"\\n\\b\")\n",
    "for i in `tail -n +2 samples.tsv | awk -F\"\\t\" '{if($2 == 1)print $1}'`\n",
    "do\n",
    "  cp ../annotations/\"$i\"/\"$i.gff\" ../coregenes_infantis/\n",
    "done"
   ]
  },
  {
   "cell_type": "markdown",
   "metadata": {},
   "source": [
    "Next, we identify core and cloud genes using Roary (version). Unfortunaltely Roary does not like space and '\\' in the file name, so we need to remove them. The last one was removed manually."
   ]
  },
  {
   "cell_type": "code",
   "execution_count": null,
   "metadata": {},
   "outputs": [],
   "source": [
    "%%bash\n",
    "cd ../coregenes_infantis/\n",
    "# unfortunately roary does not like space in file names\n",
    "for i in *.gff\n",
    "do\n",
    "  mv \"$i\" ${i/ /_}\n",
    "done\n",
    "\n",
    "roary -e --mafft -p 20 *.gff >log 2>err"
   ]
  },
  {
   "cell_type": "markdown",
   "metadata": {},
   "source": [
    "Extract core genes."
   ]
  },
  {
   "cell_type": "code",
   "execution_count": null,
   "metadata": {},
   "outputs": [],
   "source": [
    "%%bash\n",
    "cd ../tables\n",
    "tail -n +2 samples.tsv | sed 's/ /_/g' | sed 's/\\\\/_/g' >../coregenes_infantis/tmp2"
   ]
  },
  {
   "cell_type": "code",
   "execution_count": 2,
   "metadata": {},
   "outputs": [],
   "source": [
    "def revcomp(seq):\n",
    "    tr = str.maketrans('ATGC', 'TACG')\n",
    "    return(seq[::-1].translate(tr))\n",
    "\n",
    "infantis = set()\n",
    "for i in open(\"../coregenes_infantis/tmp2\"):\n",
    "    f = i.rstrip().split(\"\\t\")\n",
    "    if f[1] == \"1\":\n",
    "        infantis.add(f[0])\n",
    "\n",
    "gene = open(\"../coregenes_infantis/gene_presence_absence.csv\")\n",
    "header = gene.readline().replace('\"', '').rstrip().split(\",\")\n",
    "columns = list()\n",
    "genes = dict()\n",
    "for i in range(14,len(header)):\n",
    "    strain = header[i]\n",
    "    if strain in infantis:\n",
    "        columns.append(i)\n",
    "        genes[strain] = set()\n",
    "\n",
    "for i in gene:\n",
    "    f = i.rstrip().split(\",\")\n",
    "    for c in columns:\n",
    "        if f[c] == '\"\"':\n",
    "            break\n",
    "    else:\n",
    "        # We found something\n",
    "        for c in columns:\n",
    "            genes[header[c]].add(f[c].replace('\"', ''))\n",
    "            \n",
    "for strain in genes:\n",
    "    gff = open(\"../coregenes_infantis/\" + strain + \".gff\")\n",
    "    outseq = open(\"../coregenes_infantis/\" + strain + \".fasta\", \"w\")\n",
    "    gffmode = True\n",
    "    genebound = dict()\n",
    "    fasta = dict()\n",
    "    for i in gff:\n",
    "        if i.startswith(\"#\"):\n",
    "            if i.startswith(\"##FASTA\"):\n",
    "                gffmode = False\n",
    "            continue\n",
    "        if gffmode:\n",
    "            fields = i.rstrip().split(\"\\t\")\n",
    "            geneid = fields[8].split(\";\")[0].replace(\"ID=\", \"\")\n",
    "            if geneid in genes[strain]:\n",
    "                if fields[0] not in genebound:\n",
    "                    genebound[fields[0]] = list()\n",
    "                genebound[fields[0]].append((geneid, fields[3], fields[4], fields[6])) # I am not sure I need strand information\n",
    "        else:\n",
    "            if i.startswith(\">\"):\n",
    "                idx = i.rstrip()[1:]\n",
    "                fasta[idx] = list()\n",
    "            else:\n",
    "                fasta[idx].append(i.rstrip())\n",
    "    gff.close()\n",
    "    \n",
    "    for contig in genebound:\n",
    "        seq = \"\".join(fasta[contig])\n",
    "        for entry in genebound[contig]:\n",
    "            outseq.write(\">\" + entry[0] + \"\\n\")\n",
    "            geneseq = seq[int(entry[1])-1:int(entry[2])]\n",
    "            if entry[3] == \"-\":\n",
    "                geneseq = revcomp(geneseq)\n",
    "            outseq.write(geneseq + \"\\n\")\n",
    "    outseq.close()"
   ]
  },
  {
   "cell_type": "markdown",
   "metadata": {},
   "source": [
    "Fasta files were renamed according to the original specification.\n",
    "\n",
    "Now we can run the multiple alignment:"
   ]
  },
  {
   "cell_type": "code",
   "execution_count": null,
   "metadata": {},
   "outputs": [],
   "source": [
    "%%bash\n",
    "#!/bin/bash\n",
    "\n",
    "# Salmonella infantis core genes multiple alignment\n",
    "\n",
    "#SBATCH -A rbgma\n",
    "#SBATCH --job-name=infcor\n",
    "#SBATCH --time=168:00:00\n",
    "#SBATCH -n 8\n",
    "\n",
    "cd /big/scratch/pez5mnr/salmonella/\n",
    "./progressiveMauve --output-guide-tree=infantis.core.guide_tree --output=infantis.core *.fasta >infantis.core.log"
   ]
  },
  {
   "cell_type": "markdown",
   "metadata": {},
   "source": [
    "### Core genes of all strains"
   ]
  },
  {
   "cell_type": "code",
   "execution_count": 5,
   "metadata": {},
   "outputs": [],
   "source": [
    "%%bash\n",
    "cd ../tables\n",
    "IFS=$(echo -en \"\\n\\b\")\n",
    "for i in `tail -n +2 samples.tsv | awk -F\"\\t\" '{if($2 == 0)print $1}'`\n",
    "do\n",
    "  cp ../annotations/\"$i\"/\"$i.gff\" ../coregenes_allsamples/\n",
    "done"
   ]
  },
  {
   "cell_type": "code",
   "execution_count": 7,
   "metadata": {},
   "outputs": [],
   "source": [
    "%%bash\n",
    "cd ../coregenes_allsamples/\n",
    "cp ../coregenes_infantis/*.gff ./\n",
    "mv S.\\ Dublin_CT_02021853.gff S.Dublin_CT_02021853.gff\n",
    "mv S.Gallinarium\\\\Pollorum_RKS5078.gff S.Gallinarium_Pollorum_RKS5078.gff\n",
    "roary -e --mafft -p 10 *.gff >log 2>err"
   ]
  },
  {
   "cell_type": "code",
   "execution_count": 3,
   "metadata": {},
   "outputs": [],
   "source": [
    "gene = open(\"../coregenes_allsamples/gene_presence_absence.csv\")\n",
    "header = gene.readline().replace('\"', '').rstrip().split(\",\")\n",
    "columns = list()\n",
    "genes = dict()\n",
    "for i in range(14,len(header)):\n",
    "    strain = header[i]\n",
    "    columns.append(i)\n",
    "    genes[strain] = set()\n",
    "\n",
    "for i in gene:\n",
    "    f = i.rstrip().split(\",\")\n",
    "    for c in columns:\n",
    "        if f[c] == '\"\"':\n",
    "            break\n",
    "    else:\n",
    "        # We found something\n",
    "        for c in columns:\n",
    "            genes[header[c]].add(f[c].replace('\"', ''))\n",
    "            \n",
    "for strain in genes:\n",
    "    gff = open(\"../coregenes_allsamples/\" + strain + \".gff\")\n",
    "    outseq = open(\"../coregenes_allsamples/\" + strain + \".fasta\", \"w\")\n",
    "    gffmode = True\n",
    "    genebound = dict()\n",
    "    fasta = dict()\n",
    "    for i in gff:\n",
    "        if i.startswith(\"#\"):\n",
    "            if i.startswith(\"##FASTA\"):\n",
    "                gffmode = False\n",
    "            continue\n",
    "        if gffmode:\n",
    "            fields = i.rstrip().split(\"\\t\")\n",
    "            geneid = fields[8].split(\";\")[0].replace(\"ID=\", \"\")\n",
    "            if geneid in genes[strain]:\n",
    "                if fields[0] not in genebound:\n",
    "                    genebound[fields[0]] = list()\n",
    "                genebound[fields[0]].append((geneid, fields[3], fields[4], fields[6])) # I am not sure I need strand information\n",
    "        else:\n",
    "            if i.startswith(\">\"):\n",
    "                idx = i.rstrip()[1:]\n",
    "                fasta[idx] = list()\n",
    "            else:\n",
    "                fasta[idx].append(i.rstrip())\n",
    "    gff.close()\n",
    "    \n",
    "    for contig in genebound:\n",
    "        seq = \"\".join(fasta[contig])\n",
    "        for entry in genebound[contig]:\n",
    "            outseq.write(\">\" + entry[0] + \"\\n\")\n",
    "            geneseq = seq[int(entry[1])-1:int(entry[2])]\n",
    "            if entry[3] == \"-\":\n",
    "                geneseq = revcomp(geneseq)\n",
    "            outseq.write(geneseq + \"\\n\")\n",
    "    outseq.close()"
   ]
  },
  {
   "cell_type": "code",
   "execution_count": null,
   "metadata": {},
   "outputs": [],
   "source": [
    "%%bash\n",
    "cd ../coregenes_allsamples\n",
    "\n",
    "mv S.Dublin_CT_02021853.fasta \"S. Dublin_CT_02021853.fasta\"\n",
    "mv S.Gallinarium_Pollorum_RKS5078.fasta \"S.Gallinarium\\Pollorum_RKS5078.fasta\"\n",
    "\n",
    "./progressiveMauve --output-guide-tree=allsamples.core.guide_tree --output=allsamples.core *.fasta >allsamples.core.log"
   ]
  },
  {
   "cell_type": "markdown",
   "metadata": {},
   "source": [
    "### Cloude genes of Infantis"
   ]
  },
  {
   "cell_type": "code",
   "execution_count": 4,
   "metadata": {},
   "outputs": [],
   "source": [
    "gene = open(\"../coregenes_infantis/gene_presence_absence.csv\")\n",
    "header = gene.readline().replace('\"', '').rstrip().split(\",\")\n",
    "columns = list()\n",
    "genes = dict()\n",
    "for i in range(14,len(header)):\n",
    "    strain = header[i]\n",
    "    columns.append(i)\n",
    "    genes[strain] = set()\n",
    "\n",
    "for i in gene:\n",
    "    f = i.rstrip().split(\",\")\n",
    "    found_in_strains = 0\n",
    "    for c in columns:\n",
    "        if f[c] != '\"\"':\n",
    "            found_in_strains += 1\n",
    "    percentage = float(found_in_strains) / float(len(columns))\n",
    "    if percentage < 0.15:\n",
    "        # We found something\n",
    "        for c in columns:\n",
    "            if f[c] != '\"\"':\n",
    "                genes[header[c]].add(f[c].replace('\"', ''))\n",
    "            \n",
    "for strain in genes:\n",
    "    gff = open(\"../coregenes_infantis/\" + strain + \".gff\")\n",
    "    outseq = open(\"../cloudgenes_infantis/\" + strain + \".fasta\", \"w\")\n",
    "    gffmode = True\n",
    "    genebound = dict()\n",
    "    fasta = dict()\n",
    "    for i in gff:\n",
    "        if i.startswith(\"#\"):\n",
    "            if i.startswith(\"##FASTA\"):\n",
    "                gffmode = False\n",
    "            continue\n",
    "        if gffmode:\n",
    "            fields = i.rstrip().split(\"\\t\")\n",
    "            geneid = fields[8].split(\";\")[0].replace(\"ID=\", \"\")\n",
    "            if geneid in genes[strain]:\n",
    "                if fields[0] not in genebound:\n",
    "                    genebound[fields[0]] = list()\n",
    "                genebound[fields[0]].append((geneid, fields[3], fields[4], fields[6])) # I am not sure I need strand information\n",
    "        else:\n",
    "            if i.startswith(\">\"):\n",
    "                idx = i.rstrip()[1:]\n",
    "                fasta[idx] = list()\n",
    "            else:\n",
    "                fasta[idx].append(i.rstrip())\n",
    "    gff.close()\n",
    "    \n",
    "    for contig in genebound:\n",
    "        seq = \"\".join(fasta[contig])\n",
    "        for entry in genebound[contig]:\n",
    "            outseq.write(\">\" + entry[0] + \"\\n\")\n",
    "            geneseq = seq[int(entry[1])-1:int(entry[2])]\n",
    "            if entry[3] == \"-\":\n",
    "                geneseq = revcomp(geneseq)\n",
    "            outseq.write(geneseq + \"\\n\")\n",
    "    outseq.close()"
   ]
  },
  {
   "cell_type": "code",
   "execution_count": null,
   "metadata": {},
   "outputs": [],
   "source": [
    "%%bash\n",
    "#!/bin/bash\n",
    "\n",
    "# Salmonella infantis cloud genes multiple alignment\n",
    "\n",
    "#SBATCH -A rbgma\n",
    "#SBATCH --job-name=infcloud\n",
    "#SBATCH --time=168:00:00\n",
    "#SBATCH -n 8\n",
    "\n",
    "cd /big/scratch/pez5mnr/salmonella/\n",
    "./progressiveMauve --output-guide-tree=infantis.cloud.guide_tree --output=infantis.cloud *.fasta >infantis.cloud.log"
   ]
  },
  {
   "cell_type": "markdown",
   "metadata": {},
   "source": [
    "### Cloud genes of all strains"
   ]
  },
  {
   "cell_type": "code",
   "execution_count": 5,
   "metadata": {},
   "outputs": [],
   "source": [
    "gene = open(\"../coregenes_allsamples/gene_presence_absence.csv\")\n",
    "header = gene.readline().replace('\"', '').rstrip().split(\",\")\n",
    "columns = list()\n",
    "genes = dict()\n",
    "for i in range(14,len(header)):\n",
    "    strain = header[i]\n",
    "    columns.append(i)\n",
    "    genes[strain] = set()\n",
    "\n",
    "for i in gene:\n",
    "    f = i.rstrip().split(\",\")\n",
    "    found_in_strains = 0\n",
    "    for c in columns:\n",
    "        if f[c] != '\"\"':\n",
    "            found_in_strains += 1\n",
    "    percentage = float(found_in_strains) / float(len(columns))\n",
    "    if percentage < 0.15:\n",
    "        # We found something\n",
    "        for c in columns:\n",
    "            if f[c] != '\"\"':\n",
    "                genes[header[c]].add(f[c].replace('\"', ''))\n",
    "            \n",
    "for strain in genes:\n",
    "    gff = open(\"../coregenes_allsamples/\" + strain + \".gff\")\n",
    "    outseq = open(\"../cloudgenes_allsamples/\" + strain + \".fasta\", \"w\")\n",
    "    gffmode = True\n",
    "    genebound = dict()\n",
    "    fasta = dict()\n",
    "    for i in gff:\n",
    "        if i.startswith(\"#\"):\n",
    "            if i.startswith(\"##FASTA\"):\n",
    "                gffmode = False\n",
    "            continue\n",
    "        if gffmode:\n",
    "            fields = i.rstrip().split(\"\\t\")\n",
    "            geneid = fields[8].split(\";\")[0].replace(\"ID=\", \"\")\n",
    "            if geneid in genes[strain]:\n",
    "                if fields[0] not in genebound:\n",
    "                    genebound[fields[0]] = list()\n",
    "                genebound[fields[0]].append((geneid, fields[3], fields[4], fields[6])) # I am not sure I need strand information\n",
    "        else:\n",
    "            if i.startswith(\">\"):\n",
    "                idx = i.rstrip()[1:]\n",
    "                fasta[idx] = list()\n",
    "            else:\n",
    "                fasta[idx].append(i.rstrip())\n",
    "    gff.close()\n",
    "    \n",
    "    for contig in genebound:\n",
    "        seq = \"\".join(fasta[contig])\n",
    "        for entry in genebound[contig]:\n",
    "            outseq.write(\">\" + entry[0] + \"\\n\")\n",
    "            geneseq = seq[int(entry[1])-1:int(entry[2])]\n",
    "            if entry[3] == \"-\":\n",
    "                geneseq = revcomp(geneseq)\n",
    "            outseq.write(geneseq + \"\\n\")\n",
    "    outseq.close()"
   ]
  },
  {
   "cell_type": "markdown",
   "metadata": {},
   "source": [
    "This tree generation run on different machine, because I need to hurry."
   ]
  },
  {
   "cell_type": "code",
   "execution_count": null,
   "metadata": {},
   "outputs": [],
   "source": [
    "%%bash\n",
    "cd ../cloudgenes_allsamples/\n",
    "../coregenes_allsamples/progressiveMauve --output-guide-tree=salmonella.cloud.guide_tree --output=salmonella.cloud *.fasta >salmonella.cloud.log"
   ]
  },
  {
   "cell_type": "markdown",
   "metadata": {},
   "source": [
    "### Genomic islands\n",
    "To predict genomic islands (GI), we use IslandViewer 4. We upload UK-1973 1326/28 genomes and predict GIs. We downloaded the results in GeneBank format and tab separated table. We extract the sequences using seqret."
   ]
  },
  {
   "cell_type": "code",
   "execution_count": 3,
   "metadata": {},
   "outputs": [],
   "source": [
    "%%bash\n",
    "cd ../genomicisland/\n",
    "tail -n +2 UK1973132628.tsv | cut -f 1,2 | sort -u | awk '{print \"seqret -sbegin \"$1\" -send \"$2\" UK1973132628.gbk -stdout -auto -sid gi.\"NR}' >extract.sh\n",
    "chmod a+x extract.sh\n",
    "./extract.sh >GI.fasta"
   ]
  },
  {
   "cell_type": "markdown",
   "metadata": {},
   "source": [
    "We use the previously created Blast database to find the selected GIs in other strains."
   ]
  },
  {
   "cell_type": "code",
   "execution_count": 4,
   "metadata": {},
   "outputs": [],
   "source": [
    "%%bash\n",
    "cd ../blastdb\n",
    "blastn -query ../genomicisland/GI.fasta -db salmonella -outfmt 7 -out gi.blast.out"
   ]
  },
  {
   "cell_type": "markdown",
   "metadata": {},
   "source": [
    "The following code snippets choose the right coordinates to later extract the sequences."
   ]
  },
  {
   "cell_type": "code",
   "execution_count": 2,
   "metadata": {},
   "outputs": [],
   "source": [
    "blastout  = open(\"../blastdb/gi.blast.out\")\n",
    "gi_length = dict()\n",
    "coverage  = dict()\n",
    "for i in blastout:\n",
    "    if i.startswith(\"#\"):\n",
    "        continue\n",
    "    fields = i.rstrip().split(\"\\t\")\n",
    "    gi_id  = fields[0]\n",
    "    strain = \"_\".join(fields[1].split(\"_\")[:-1])\n",
    "    perc   = float(fields[2])\n",
    "    alnlen = int(fields[3])\n",
    "    if perc < 0.9: # HSP similarity should be larger than 90%\n",
    "        continue\n",
    "    if alnlen < 200: # if the HSP too small, we drop it\n",
    "        continue\n",
    "    if gi_id not in gi_length:\n",
    "        gi_length[gi_id] = alnlen # the first hit will be the same, so the alignment length gives us the length of the GI\n",
    "        coverage[gi_id] = dict()\n",
    "    if strain not in coverage[gi_id]:\n",
    "        coverage[gi_id][strain] = list()\n",
    "    coverage[gi_id][strain].append([int(fields[6]), int(fields[7]), int(fields[8]), int(fields[9]), fields[1]])\n",
    "blastout.close()\n",
    "\n",
    "for gi_id in coverage:\n",
    "    l = gi_length[gi_id]\n",
    "    for strain in coverage[gi_id]:\n",
    "        cov = [0] * l\n",
    "        straincoord = list() # genomic island coordinates in the specified strain\n",
    "        for hsp in coverage[gi_id][strain]:\n",
    "            gi_start = hsp[0] -1\n",
    "            gi_end   = hsp[1]\n",
    "            for i in range(gi_start, gi_end):\n",
    "                cov[i] = 1\n",
    "        if (l * 0.9) < float(sum(cov)):\n",
    "            # strain accepted, because the HSPs cover more than 90%\n",
    "            # some part of the genomic island is covered more than one\n",
    "            # we select the larger parts\n",
    "            removeindex = set()\n",
    "            for i in range(len(coverage[gi_id][strain]) - 1):\n",
    "                for j in range(i + 1, len(coverage[gi_id][strain])):\n",
    "                    hsp1 = coverage[gi_id][strain][i]\n",
    "                    hsp2 = coverage[gi_id][strain][j]\n",
    "                    if hsp2[0] > hsp1[0] and hsp2[1] < hsp1[1]:\n",
    "                        # hsp2 is inside hsp1\n",
    "                        removeindex.add(j)\n",
    "                    if hsp1[0] > hsp2[0] and hsp1[1] < hsp2[1]:\n",
    "                        removeindex.add(i)\n",
    "            removeindex = sorted(removeindex, reverse = True) # deleting from an array will reindex it\n",
    "            for i in removeindex:\n",
    "                del coverage[gi_id][strain][i]"
   ]
  },
  {
   "cell_type": "code",
   "execution_count": 9,
   "metadata": {},
   "outputs": [],
   "source": [
    "def extract(seq, poslist, strain):\n",
    "    seq = \"\".join(seq)\n",
    "    outname = \"_\".join(strain.split(\"_\")[:-1])\n",
    "    out = open(\"../genomicisland/ukislands/\" + outname + \".fasta\", \"a\")\n",
    "    for p in poslist:\n",
    "        start = p[0] - 1 #strings are zero based\n",
    "        end = p[1]\n",
    "        out.write(\">\" + strain + \"\\n\")\n",
    "        out.write(seq[start:end] + \"\\n\")\n",
    "    out.close()\n",
    "\n",
    "positions = dict()\n",
    "for gi_id in coverage:\n",
    "    for strain in coverage[gi_id]:\n",
    "        for contig in coverage[gi_id][strain]:\n",
    "            contig_name = contig[4]\n",
    "            contig_start = min(contig[2], contig[3])\n",
    "            contig_end = max(contig[2], contig[3])\n",
    "            if contig_name not in positions:\n",
    "                positions[contig_name] = list()\n",
    "            positions[contig_name].append([contig_start, contig_end])\n",
    "\n",
    "fasta = open(\"../blastdb/seq.fasta\")\n",
    "seq = list()\n",
    "for i in fasta:\n",
    "    if i.startswith('>'):\n",
    "        if len(seq) > 0 and seqname in positions:\n",
    "            extract(seq, positions[seqname], seqname)\n",
    "        seqname = i.rstrip()[1:]\n",
    "        seq = list()\n",
    "    else:\n",
    "        seq.append(i.rstrip())\n",
    "fasta.close()\n",
    "if len(seq) > 0 and seqname in positions:\n",
    "    extract(seq, positions[seqname], seqname)"
   ]
  },
  {
   "cell_type": "markdown",
   "metadata": {},
   "source": [
    "Rename samples to represents correctly our strains."
   ]
  },
  {
   "cell_type": "code",
   "execution_count": 10,
   "metadata": {},
   "outputs": [
    {
     "name": "stderr",
     "output_type": "stream",
     "text": [
      "mv: ‘Mexico-2008-1.fasta’ and ‘Mexico-2008-1.fasta’ are the same file\n",
      "mv: ‘Mexico-2008-2.fasta’ and ‘Mexico-2008-2.fasta’ are the same file\n",
      "mv: ‘Mexico-2008-3.fasta’ and ‘Mexico-2008-3.fasta’ are the same file\n",
      "mv: ‘Mexico-2008-4.fasta’ and ‘Mexico-2008-4.fasta’ are the same file\n",
      "mv: ‘Mexico-2008-5.fasta’ and ‘Mexico-2008-5.fasta’ are the same file\n",
      "mv: ‘Mexico-2008-CFSAN047352.fasta’ and ‘Mexico-2008-CFSAN047352.fasta’ are the same file\n",
      "mv: ‘Mexico-2009-CFSAN047411.fasta’ and ‘Mexico-2009-CFSAN047411.fasta’ are the same file\n",
      "mv: ‘Mexico-2009-CFSAN047417.fasta’ and ‘Mexico-2009-CFSAN047417.fasta’ are the same file\n",
      "mv: ‘Mexico-2010-CFSAN047496.fasta’ and ‘Mexico-2010-CFSAN047496.fasta’ are the same file\n",
      "mv: ‘Mexico-2010-CFSAN047510.fasta’ and ‘Mexico-2010-CFSAN047510.fasta’ are the same file\n",
      "mv: ‘S.Agona_460004.fasta’ and ‘S.Agona_460004.fasta’ are the same file\n",
      "mv: ‘S.Agona_SL483.fasta’ and ‘S.Agona_SL483.fasta’ are the same file\n",
      "mv: ‘SAl147[2011].fasta’ and ‘SAl147[2011].fasta’ are the same file\n",
      "mv: ‘Sal280[2012].fasta’ and ‘Sal280[2012].fasta’ are the same file\n",
      "mv: ‘S.arizonae_RSK2980.fasta’ and ‘S.arizonae_RSK2980.fasta’ are the same file\n",
      "mv: ‘S.arizonae_RSK2983.fasta’ and ‘S.arizonae_RSK2983.fasta’ are the same file\n",
      "mv: ‘S.bongori_NCTC12419.fasta’ and ‘S.bongori_NCTC12419.fasta’ are the same file\n",
      "mv: ‘S.Choleraesuis_A50.fasta’ and ‘S.Choleraesuis_A50.fasta’ are the same file\n",
      "mv: ‘S.Choleraesuis_SC-B67.fasta’ and ‘S.Choleraesuis_SC-B67.fasta’ are the same file\n",
      "mv: ‘S.Dublin_SD3246.fasta’ and ‘S.Dublin_SD3246.fasta’ are the same file\n",
      "mv: ‘S.Enteritidis_77-1427.fasta’ and ‘S.Enteritidis_77-1427.fasta’ are the same file\n",
      "mv: ‘S.Enteritidis_P125109.fasta’ and ‘S.Enteritidis_P125109.fasta’ are the same file\n",
      "mv: ‘S.Gallinarium_SG9.fasta’ and ‘S.Gallinarium_SG9.fasta’ are the same file\n",
      "mv: ‘S.Heidelberg_B182.fasta’ and ‘S.Heidelberg_B182.fasta’ are the same file\n",
      "mv: ‘S.Heidelberg_SL476.fasta’ and ‘S.Heidelberg_SL476.fasta’ are the same file\n",
      "mv: ‘SI01.fasta’ and ‘SI01.fasta’ are the same file\n",
      "mv: ‘SI02.fasta’ and ‘SI02.fasta’ are the same file\n",
      "mv: ‘S.Newport_Levine1.fasta’ and ‘S.Newport_Levine1.fasta’ are the same file\n",
      "mv: ‘S.Newport_SL254.fasta’ and ‘S.Newport_SL254.fasta’ are the same file\n",
      "mv: ‘S.ParatyphiA_ATCC9150.fasta’ and ‘S.ParatyphiA_ATCC9150.fasta’ are the same file\n",
      "mv: ‘S.ParatyphiB_SPB7.fasta’ and ‘S.ParatyphiB_SPB7.fasta’ are the same file\n",
      "mv: ‘S.ParatyphiC_RKS4594.fasta’ and ‘S.ParatyphiC_RKS4594.fasta’ are the same file\n",
      "mv: ‘S.Schwarzengrund_CVM19633.fasta’ and ‘S.Schwarzengrund_CVM19633.fasta’ are the same file\n",
      "mv: ‘S.Schwarzengrund_SL480.fasta’ and ‘S.Schwarzengrund_SL480.fasta’ are the same file\n",
      "mv: ‘S.Typhi_CT18.fasta’ and ‘S.Typhi_CT18.fasta’ are the same file\n",
      "mv: ‘S.Typhimurium_LT2.fasta’ and ‘S.Typhimurium_LT2.fasta’ are the same file\n",
      "mv: ‘S.Typhimurium_UK-1.fasta’ and ‘S.Typhimurium_UK-1.fasta’ are the same file\n",
      "mv: ‘S.Typhi_Ty2.fasta’ and ‘S.Typhi_Ty2.fasta’ are the same file\n"
     ]
    }
   ],
   "source": [
    "%%bash\n",
    "cd ../tables\n",
    "\n",
    "awk -F\"\\t\" '{if(NR>1)print $1}' samples.tsv >a\n",
    "ls ../genomicisland/ukislands/ >b\n",
    "paste b a | awk -F\"\\t\" '{print \"mv \"$1\" \\\"\"$2\".fasta\\\"\"}' >../genomicisland/ukislands/cmd.sh\n",
    "rm a b\n",
    "\n",
    "cd ../genomicisland/ukislands/\n",
    "\n",
    "for i in *.fasta\n",
    "do\n",
    "  fold -w 60 $i >tmp\n",
    "  mv tmp $i\n",
    "done\n",
    "\n",
    "chmod a+x cmd.sh\n",
    "./cmd.sh"
   ]
  },
  {
   "cell_type": "code",
   "execution_count": 11,
   "metadata": {},
   "outputs": [],
   "source": [
    "%%bash\n",
    "cd ../genomicisland/ukislands/\n",
    "mkdir infantis\n",
    "mv Brasil-201* Nigeria-2009\\ BCW_2699.fasta Peru-2016\\ SPE101.fasta SAl147\\[2011\\].fasta Sal280\\[2012\\].fasta Senegal\\ SARB27.fasta SI0* infantis/\n",
    "mv Hungary-* Israel-* Italy-20* Japan-* Mexico-20* Switzerland-201* UK-1973\\ 1326\\\\28.fasta USA-201* infantis/\n",
    "cd infantis\n",
    "../../../coregenes_allsamples/progressiveMauve --output-guide-tree=infantis.gi.guide_tree --output=infantis.gi *.fasta >infantis.gi.log"
   ]
  }
 ],
 "metadata": {
  "kernelspec": {
   "display_name": "Python 3",
   "language": "python",
   "name": "python3"
  },
  "language_info": {
   "codemirror_mode": {
    "name": "ipython",
    "version": 3
   },
   "file_extension": ".py",
   "mimetype": "text/x-python",
   "name": "python",
   "nbconvert_exporter": "python",
   "pygments_lexer": "ipython3",
   "version": "3.6.8"
  }
 },
 "nbformat": 4,
 "nbformat_minor": 2
}
