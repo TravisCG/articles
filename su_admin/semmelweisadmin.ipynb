{
 "cells": [
  {
   "cell_type": "markdown",
   "metadata": {},
   "source": [
    "# Semmelweis system administration\n",
    "## 2020. 03. 02\n",
    "\n",
    "- Creating new virtual machine using ESXi interface.\n",
    "- Installing Ubuntu Linux 18.04 LTS"
   ]
  },
  {
   "cell_type": "markdown",
   "metadata": {},
   "source": [
    "## 2020. 03. 09\n",
    "Creating the file system."
   ]
  },
  {
   "cell_type": "code",
   "execution_count": null,
   "metadata": {},
   "outputs": [],
   "source": [
    "%%bash\n",
    "cd /\n",
    "sudo mkdir disk\n",
    "sudo fdisk /dev/sdb\n",
    "sudo mkfs.ext4 /dev/sdb1\n",
    "sudo mount /dev/sdb1 /disk\n",
    "sudo vim /etc/fstab"
   ]
  },
  {
   "cell_type": "markdown",
   "metadata": {},
   "source": [
    "## 2020. 03. 16\n",
    "Creating directory structure for the working environment. Also set the first user groups."
   ]
  },
  {
   "cell_type": "code",
   "execution_count": null,
   "metadata": {},
   "outputs": [],
   "source": [
    "%%bash\n",
    "\n",
    "# fundamental user groups\n",
    "sudo addgroup compbio\n",
    "sudo addgroup diagnostics\n",
    "\n",
    "# directory structure\n",
    "cd /disk\n",
    "sudo mkdir sctatch\n",
    "sudo mkdir work\n",
    "sudo chgrp compbio scratch/ work/\n",
    "sudo chmod a+w scratch/ work/\n",
    "cd work\n",
    "mkdir diagnostics restricted users shared\n",
    "sudo chgrp diagnostics diagnostics\n",
    "sudo chgrp compbio users\n",
    "sudo chgrp compbio shared\n",
    "sudo chgrp compbio restricted\n",
    "cd ../..\n",
    "sudo ln -s /disk/scratch\n",
    "sudo ln -s /disk/work"
   ]
  },
  {
   "cell_type": "markdown",
   "metadata": {},
   "source": [
    "## 2020. 03. 23\n",
    "Creating additional user groups and set up the second system administrator."
   ]
  },
  {
   "cell_type": "code",
   "execution_count": null,
   "metadata": {},
   "outputs": [],
   "source": [
    "%%bash\n",
    "\n",
    "sudo addgroup gdc\n",
    "sudo addgroup ega01\n",
    "sudo addgroup gtex\n",
    "\n",
    "sudo adduser tn1 compbio\n",
    "sudo adduser es1\n",
    "sudo adduser es1 compbio\n",
    "sudo adduser es1 diagnostics\n",
    "sudo adduser es1 sudo\n",
    "sudo adduser es1 adm\n",
    "sudo adduser es1 dip\n",
    "sudo adduser es1 lxd\n",
    "sudo adduser es1 plugdev\n",
    "sudo adduser es1 cdrom"
   ]
  },
  {
   "cell_type": "markdown",
   "metadata": {},
   "source": [
    "## 2020. 03. 30\n",
    "Creating new users."
   ]
  },
  {
   "cell_type": "code",
   "execution_count": null,
   "metadata": {},
   "outputs": [],
   "source": [
    "%%bash\n",
    "\n",
    "sudo adduser as1\n",
    "sudo adduser as1 compbio\n",
    "sudo adduser gb1\n",
    "sudo adduser gb1 compbio\n",
    "sudo adduser ps1\n",
    "sudo adduser ps1 compbio\n",
    "sudo adduser vv1\n",
    "sudo adduser vv1 compbio\n",
    "\n",
    "cd /disk\n",
    "sudo mkdir home\n",
    "sudo adduser --home /disk/home/student1 student1\n",
    "sudo adduser --home /disk/home/student2 student2\n",
    "sudo adduser --home /disk/home/student3 student3\n",
    "sudo adduser --home /disk/home/student4 student4\n",
    "sudo adduser --home /disk/home/student5 student5\n",
    "sudo adduser --home /disk/home/student6 student6\n",
    "sudo adduser --home /disk/home/student7 student7"
   ]
  },
  {
   "cell_type": "markdown",
   "metadata": {},
   "source": [
    "## 2020. 04. 06"
   ]
  },
  {
   "cell_type": "code",
   "execution_count": null,
   "metadata": {},
   "outputs": [],
   "source": [
    "%%bash"
   ]
  }
 ],
 "metadata": {
  "kernelspec": {
   "display_name": "Python 3",
   "language": "python",
   "name": "python3"
  },
  "language_info": {
   "codemirror_mode": {
    "name": "ipython",
    "version": 3
   },
   "file_extension": ".py",
   "mimetype": "text/x-python",
   "name": "python",
   "nbconvert_exporter": "python",
   "pygments_lexer": "ipython3",
   "version": "3.6.8"
  }
 },
 "nbformat": 4,
 "nbformat_minor": 2
}
